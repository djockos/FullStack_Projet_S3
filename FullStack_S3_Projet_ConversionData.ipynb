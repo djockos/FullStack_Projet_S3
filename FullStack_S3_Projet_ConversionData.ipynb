{
 "cells": [
  {
   "cell_type": "code",
   "execution_count": 1,
   "metadata": {},
   "outputs": [],
   "source": [
    "import pandas as pd\n",
    "import numpy as np\n",
    "import matplotlib.pyplot as plt\n",
    "import seaborn as sns\n",
    "\n",
    "\n",
    "from sklearn.impute import SimpleImputer\n",
    "from sklearn.preprocessing import  OneHotEncoder, StandardScaler, LabelEncoder\n",
    "from sklearn.compose import ColumnTransformer\n",
    "from sklearn.metrics import accuracy_score, confusion_matrix,roc_auc_score,roc_curve,f1_score\n",
    "from sklearn.model_selection import cross_val_score, cross_val_predict,KFold,train_test_split,GridSearchCV\n",
    "\n",
    "#modeles\n",
    "\n",
    "from sklearn import linear_model as lm\n",
    "from sklearn.tree import DecisionTreeClassifier\n",
    "from sklearn.ensemble import RandomForestClassifier\n"
   ]
  },
  {
   "cell_type": "code",
   "execution_count": 2,
   "metadata": {},
   "outputs": [
    {
     "name": "stdout",
     "output_type": "stream",
     "text": [
      "Loading dataset...\n",
      "...Done.\n",
      "\n"
     ]
    }
   ],
   "source": [
    "# Import dataset\n",
    "print(\"Loading dataset...\")\n",
    "dataset = pd.read_csv(\"conversion_data_train.csv\")\n",
    "print(\"...Done.\")\n",
    "print()"
   ]
  },
  {
   "cell_type": "code",
   "execution_count": null,
   "metadata": {},
   "outputs": [],
   "source": [
    "dataset.head(5)"
   ]
  },
  {
   "cell_type": "code",
   "execution_count": null,
   "metadata": {},
   "outputs": [],
   "source": [
    "# Basic stats\n",
    "dataset.describe(include='all')"
   ]
  },
  {
   "cell_type": "code",
   "execution_count": null,
   "metadata": {},
   "outputs": [],
   "source": [
    "dataset.converted.value_counts()"
   ]
  },
  {
   "cell_type": "code",
   "execution_count": null,
   "metadata": {},
   "outputs": [],
   "source": [
    "dataset.columns"
   ]
  },
  {
   "cell_type": "code",
   "execution_count": null,
   "metadata": {},
   "outputs": [],
   "source": [
    "dataset.source.value_counts()"
   ]
  },
  {
   "cell_type": "code",
   "execution_count": 39,
   "metadata": {},
   "outputs": [],
   "source": [
    "dataset['new_age'] = 'Nan'"
   ]
  },
  {
   "cell_type": "code",
   "execution_count": 40,
   "metadata": {},
   "outputs": [],
   "source": [
    "dataset['new_age'] = dataset.age.apply(lambda x: 20 if x < 20\n",
    "                                    else 25 if x<25\n",
    "                                    else 30 if x<30\n",
    "                                    else 35 if x<35\n",
    "                                    else 40 if x<40\n",
    "                                    else 50 if x<50\n",
    "                                    else 65)"
   ]
  },
  {
   "cell_type": "code",
   "execution_count": null,
   "metadata": {},
   "outputs": [],
   "source": [
    "dataset.total_pages_visited.value_counts()"
   ]
  },
  {
   "cell_type": "code",
   "execution_count": 41,
   "metadata": {},
   "outputs": [
    {
     "data": {
      "text/plain": [
       "30    63032\n",
       "35    59697\n",
       "25    52216\n",
       "40    44203\n",
       "50    37056\n",
       "20    22939\n",
       "65     5437\n",
       "Name: new_age, dtype: int64"
      ]
     },
     "execution_count": 41,
     "metadata": {},
     "output_type": "execute_result"
    }
   ],
   "source": [
    "dataset.new_age.value_counts()"
   ]
  },
  {
   "cell_type": "code",
   "execution_count": null,
   "metadata": {},
   "outputs": [],
   "source": [
    "dataset.age.value_counts(sort = False)"
   ]
  },
  {
   "cell_type": "code",
   "execution_count": null,
   "metadata": {},
   "outputs": [],
   "source": [
    "sns.distplot(dataset.new_age)"
   ]
  },
  {
   "cell_type": "code",
   "execution_count": null,
   "metadata": {},
   "outputs": [],
   "source": [
    "sns.distplot?"
   ]
  },
  {
   "cell_type": "code",
   "execution_count": null,
   "metadata": {},
   "outputs": [],
   "source": [
    "sns.distplot(dataset.total_pages_visited)"
   ]
  },
  {
   "cell_type": "code",
   "execution_count": null,
   "metadata": {},
   "outputs": [],
   "source": [
    "sns.relplot(y ='converted', x = 'total_pages_visited', data = dataset)"
   ]
  },
  {
   "cell_type": "markdown",
   "metadata": {},
   "source": [
    "##Preprocessing"
   ]
  },
  {
   "cell_type": "code",
   "execution_count": 6,
   "metadata": {},
   "outputs": [],
   "source": [
    "features_list = ['country', 'new_age', 'new_user','source', 'total_pages_visited']\n",
    "target_variable = 'converted'"
   ]
  },
  {
   "cell_type": "code",
   "execution_count": 42,
   "metadata": {},
   "outputs": [
    {
     "name": "stdout",
     "output_type": "stream",
     "text": [
      "Variables explicatives :  Index(['country', 'new_age', 'new_user', 'source', 'total_pages_visited'], dtype='object')\n",
      "\n"
     ]
    }
   ],
   "source": [
    "X = dataset.loc[:, features_list]\n",
    "Y = dataset.loc[:, target_variable]\n",
    "\n",
    "print('Variables explicatives : ', X.columns)\n",
    "print()"
   ]
  },
  {
   "cell_type": "code",
   "execution_count": 43,
   "metadata": {},
   "outputs": [
    {
     "name": "stdout",
     "output_type": "stream",
     "text": [
      "Found numeric features  ['new_age', 'new_user', 'total_pages_visited']  at positions  [1, 2, 4]\n",
      "Found categorical features  ['country', 'source']  at positions  [0, 3]\n"
     ]
    }
   ],
   "source": [
    "idx = 0\n",
    "numeric_features = []\n",
    "numeric_indices = []\n",
    "categorical_features = []\n",
    "categorical_indices = []\n",
    "for i,t in X.dtypes.iteritems():\n",
    "  if ('float' in str(t)) or ('int' in str(t)) :\n",
    "    numeric_features.append(i)\n",
    "    numeric_indices.append(idx)\n",
    "  else :\n",
    "    categorical_features.append(i)\n",
    "    categorical_indices.append(idx)\n",
    "\n",
    "  idx = idx + 1\n",
    "\n",
    "print('Found numeric features ', numeric_features,' at positions ', numeric_indices)\n",
    "print('Found categorical features ', categorical_features,' at positions ', categorical_indices)"
   ]
  },
  {
   "cell_type": "code",
   "execution_count": 44,
   "metadata": {},
   "outputs": [],
   "source": [
    "X_train, X_test, Y_train, Y_test = train_test_split(X, Y,\n",
    "                                                    test_size=0.15, \n",
    "                                                    random_state=0,\n",
    "                                                    stratify=Y)"
   ]
  },
  {
   "cell_type": "code",
   "execution_count": 45,
   "metadata": {},
   "outputs": [
    {
     "name": "stdout",
     "output_type": "stream",
     "text": [
      "Avant\n",
      "       country  new_age  new_user source  total_pages_visited\n",
      "44620       UK       30         1    Seo                    9\n",
      "46076    China       30         1    Seo                    2\n",
      "209022      US       35         0    Seo                    3\n",
      "65284       US       40         1    Seo                    2\n",
      "24604       US       20         1    Seo                    1\n",
      "       country  new_age  new_user  source  total_pages_visited\n",
      "229800      US       25         0  Direct                   10\n",
      "148977   China       20         0     Seo                    2\n",
      "201871      US       50         0     Ads                    7\n",
      "101289      US       25         1     Seo                    8\n",
      "164682      US       25         1     Ads                    2\n",
      "Après\n",
      "[[ 0.          1.          0.          0.          1.         -0.43394981\n",
      "   0.67658432  1.23430796]\n",
      " [ 0.          0.          0.          0.          1.         -0.43394981\n",
      "   0.67658432 -0.86031225]\n",
      " [ 0.          0.          1.          0.          1.          0.08801605\n",
      "  -1.47801238 -0.56108079]\n",
      " [ 0.          0.          1.          0.          1.          0.60998191\n",
      "   0.67658432 -0.86031225]\n",
      " [ 0.          0.          1.          0.          1.         -1.47788153\n",
      "   0.67658432 -1.1595437 ]]\n",
      "[[ 0.          0.          1.          1.          0.         -0.95591567\n",
      "  -1.47801238  1.53353942]\n",
      " [ 0.          0.          0.          0.          1.         -1.47788153\n",
      "  -1.47801238 -0.86031225]\n",
      " [ 0.          0.          1.          0.          0.          1.65391363\n",
      "  -1.47801238  0.63584505]\n",
      " [ 0.          0.          1.          0.          1.         -0.95591567\n",
      "   0.67658432  0.9350765 ]\n",
      " [ 0.          0.          1.          0.          0.         -0.95591567\n",
      "   0.67658432 -0.86031225]]\n"
     ]
    }
   ],
   "source": [
    "# Encoding categorical features and standardizing numerical features\n",
    "# Normalization\n",
    "print(\"Avant\")\n",
    "print(X_train.head())\n",
    "print(X_test.head())\n",
    "numeric_transformer = StandardScaler()\n",
    "# OHE / dummyfication\n",
    "categorical_transformer = OneHotEncoder(drop='first')\n",
    "\n",
    "featureencoder = ColumnTransformer(\n",
    "    transformers=[\n",
    "        ('cat', categorical_transformer, categorical_indices),    \n",
    "        ('num', numeric_transformer, numeric_indices)\n",
    "        ]\n",
    "    )\n",
    "\n",
    "X_train = featureencoder.fit_transform(X_train)\n",
    "X_test = featureencoder.transform(X_test)\n",
    "print(\"Après\")\n",
    "print(X_train[0:5,:])\n",
    "print(X_test[0:5,:])"
   ]
  },
  {
   "cell_type": "code",
   "execution_count": 46,
   "metadata": {},
   "outputs": [],
   "source": [
    "## instanciation des modèles de classification:\n",
    "\n",
    "#Lineaires\n",
    "\n",
    "my_logisticReg = lm.LogisticRegression(penalty=\"none\",solver=\"lbfgs\")\n",
    "my_logisticRegCV = lm.LogisticRegressionCV()\n",
    "my_ridgeClass = lm.RidgeClassifier()\n",
    "my_ridgeClassCV = lm.RidgeClassifierCV()\n",
    "\n",
    "my_decisionTree = DecisionTreeClassifier()\n",
    "my_randomForest = RandomForestClassifier()\n",
    "#mybest_randomForest = RandomForestClassifier(n_estimators=400,max_depth=110,min_samples_leaf=8,min_samples_split=10)\n",
    "mybest_logisticReg = lm.LogisticRegression(penalty=\"l1\",C=0.23357214690901212)\n"
   ]
  },
  {
   "cell_type": "code",
   "execution_count": 47,
   "metadata": {},
   "outputs": [
    {
     "name": "stderr",
     "output_type": "stream",
     "text": [
      "C:\\Users\\djock\\Anaconda3\\lib\\site-packages\\sklearn\\model_selection\\_split.py:1978: FutureWarning: The default value of cv will change from 3 to 5 in version 0.22. Specify it explicitly to silence this warning.\n",
      "  warnings.warn(CV_WARNING, FutureWarning)\n",
      "C:\\Users\\djock\\Anaconda3\\lib\\site-packages\\sklearn\\ensemble\\forest.py:245: FutureWarning: The default value of n_estimators will change from 10 in version 0.20 to 100 in 0.22.\n",
      "  \"10 in version 0.20 to 100 in 0.22.\", FutureWarning)\n",
      "C:\\Users\\djock\\Anaconda3\\lib\\site-packages\\sklearn\\linear_model\\logistic.py:432: FutureWarning: Default solver will be changed to 'lbfgs' in 0.22. Specify a solver to silence this warning.\n",
      "  FutureWarning)\n"
     ]
    },
    {
     "data": {
      "text/plain": [
       "LogisticRegression(C=0.23357214690901212, class_weight=None, dual=False,\n",
       "                   fit_intercept=True, intercept_scaling=1, l1_ratio=None,\n",
       "                   max_iter=100, multi_class='warn', n_jobs=None, penalty='l1',\n",
       "                   random_state=None, solver='warn', tol=0.0001, verbose=0,\n",
       "                   warm_start=False)"
      ]
     },
     "execution_count": 47,
     "metadata": {},
     "output_type": "execute_result"
    }
   ],
   "source": [
    "my_logisticReg.fit(X_train,Y_train)\n",
    "my_logisticRegCV.fit(X_train,Y_train)\n",
    "my_ridgeClass.fit(X_train,Y_train)\n",
    "my_ridgeClassCV.fit(X_train,Y_train)\n",
    "\n",
    "my_decisionTree.fit(X_train,Y_train)\n",
    "my_randomForest.fit(X_train,Y_train)\n",
    "\n",
    "#mybest_randomForest.fit(X_train,Y_train)\n",
    "mybest_logisticReg.fit(X_train,Y_train)\n"
   ]
  },
  {
   "cell_type": "code",
   "execution_count": null,
   "metadata": {},
   "outputs": [],
   "source": [
    "### Grid Search sur Logistic Regression\n",
    "\n",
    "\n",
    "print(\"Train model...\")\n",
    "\n",
    "classifier2 = lm.LogisticRegression()\n",
    "\n",
    "params = {\n",
    "    'penalty' : ['l1', 'l2'],\n",
    "    'C' : np.logspace(-4, 4, 20)\n",
    "}\n",
    "\n",
    "best_classifier_Log = GridSearchCV(classifier2, params,n_jobs=-1,verbose=2)\n",
    "%time best_classifier_Log.fit(X_train, Y_train)\n",
    "print(\"...Done.\")"
   ]
  },
  {
   "cell_type": "code",
   "execution_count": null,
   "metadata": {},
   "outputs": [],
   "source": [
    "### Grid Search sur RandomForest\n",
    "\n",
    "\n",
    "print(\"Train model...\")\n",
    "\n",
    "classifier = RandomForestClassifier()\n",
    "\n",
    "params = {\n",
    "    'n_estimators' : [50,100,200,400],\n",
    "    'max_depth' : [40,70,110],\n",
    "    'min_samples_leaf': [2,4,8],\n",
    "    'min_samples_split': [8,10,12],\n",
    "}\n",
    "\n",
    "best_classifier_rndmF = GridSearchCV(classifier, params,n_jobs=-1,verbose=2)\n",
    "%time best_classifier_rndmF.fit(X_train, Y_train)\n",
    "print(\"...Done.\")"
   ]
  },
  {
   "cell_type": "code",
   "execution_count": 13,
   "metadata": {},
   "outputs": [],
   "source": [
    "list_model= ['my_logisticReg',\n",
    "             'my_logisticRegCV',\n",
    "            'my_ridgeClass',\n",
    "            'my_ridgeClassCV',\n",
    "            'my_decisionTree',\n",
    "            'my_randomForest',\n",
    "            'mybest_logisticReg']"
   ]
  },
  {
   "cell_type": "code",
   "execution_count": 15,
   "metadata": {},
   "outputs": [],
   "source": [
    "results = pd.DataFrame(columns=['model','f1_score_test','f1_score_train','accuracy_score_test','accuracy_score_train','run_nb'])"
   ]
  },
  {
   "cell_type": "code",
   "execution_count": 36,
   "metadata": {},
   "outputs": [],
   "source": [
    "run_number = 0"
   ]
  },
  {
   "cell_type": "code",
   "execution_count": 48,
   "metadata": {},
   "outputs": [
    {
     "name": "stdout",
     "output_type": "stream",
     "text": [
      "my_logisticReg\n",
      "my_logisticRegCV\n",
      "my_ridgeClass\n",
      "my_ridgeClassCV\n",
      "my_decisionTree\n",
      "my_randomForest\n",
      "mybest_logisticReg\n"
     ]
    }
   ],
   "source": [
    "#results = pd.DataFrame(columns=['model','f1_score_test','f1_score_train','accuracy_score_test','accuracy_score_train'])\n",
    "run_number = run_number +1\n",
    "for model_i in list_model:\n",
    "    print(model_i)\n",
    "    Y_train_predict_i = eval(model_i).predict(X_train)\n",
    "    Y_test_predict_i = eval(model_i).predict(X_test)\n",
    "    f1_score_i_train = f1_score(Y_train,Y_train_predict_i)\n",
    "    f1_score_i_test = f1_score(Y_test,Y_test_predict_i)\n",
    "    score_i_train = accuracy_score(Y_train,Y_train_predict_i)\n",
    "    score_i_test = accuracy_score(Y_test,Y_test_predict_i)\n",
    "    results =results.append({'model':model_i,\n",
    "                             'f1_score_test':\"{:0.4}\".format(f1_score_i_test),\n",
    "                             'f1_score_train':\"{:0.4}\".format(f1_score_i_train),\n",
    "                             'accuracy_score_test':\"{:.3%}\".format(score_i_test),\n",
    "                            'accuracy_score_train':\"{:.3%}\".format(score_i_train),\n",
    "                            'run_nb':run_number},\n",
    "                            ignore_index=True)"
   ]
  },
  {
   "cell_type": "code",
   "execution_count": 49,
   "metadata": {},
   "outputs": [
    {
     "data": {
      "text/html": [
       "<div>\n",
       "<style scoped>\n",
       "    .dataframe tbody tr th:only-of-type {\n",
       "        vertical-align: middle;\n",
       "    }\n",
       "\n",
       "    .dataframe tbody tr th {\n",
       "        vertical-align: top;\n",
       "    }\n",
       "\n",
       "    .dataframe thead th {\n",
       "        text-align: right;\n",
       "    }\n",
       "</style>\n",
       "<table border=\"1\" class=\"dataframe\">\n",
       "  <thead>\n",
       "    <tr style=\"text-align: right;\">\n",
       "      <th></th>\n",
       "      <th>model</th>\n",
       "      <th>f1_score_test</th>\n",
       "      <th>f1_score_train</th>\n",
       "      <th>accuracy_score_test</th>\n",
       "      <th>accuracy_score_train</th>\n",
       "      <th>run_nb</th>\n",
       "    </tr>\n",
       "  </thead>\n",
       "  <tbody>\n",
       "    <tr>\n",
       "      <td>0</td>\n",
       "      <td>my_logisticReg</td>\n",
       "      <td>0.7643</td>\n",
       "      <td>0.7652</td>\n",
       "      <td>98.620%</td>\n",
       "      <td>98.630%</td>\n",
       "      <td>new_age2</td>\n",
       "    </tr>\n",
       "    <tr>\n",
       "      <td>1</td>\n",
       "      <td>my_logisticRegCV</td>\n",
       "      <td>0.7643</td>\n",
       "      <td>0.7652</td>\n",
       "      <td>98.620%</td>\n",
       "      <td>98.630%</td>\n",
       "      <td>new_age2</td>\n",
       "    </tr>\n",
       "    <tr>\n",
       "      <td>14</td>\n",
       "      <td>my_logisticReg</td>\n",
       "      <td>0.7622</td>\n",
       "      <td>0.764</td>\n",
       "      <td>98.616%</td>\n",
       "      <td>98.623%</td>\n",
       "      <td>new_age3</td>\n",
       "    </tr>\n",
       "    <tr>\n",
       "      <td>22</td>\n",
       "      <td>my_logisticRegCV</td>\n",
       "      <td>0.7622</td>\n",
       "      <td>0.7639</td>\n",
       "      <td>98.616%</td>\n",
       "      <td>98.622%</td>\n",
       "      <td>1</td>\n",
       "    </tr>\n",
       "    <tr>\n",
       "      <td>7</td>\n",
       "      <td>my_logisticReg</td>\n",
       "      <td>0.7622</td>\n",
       "      <td>0.764</td>\n",
       "      <td>98.616%</td>\n",
       "      <td>98.623%</td>\n",
       "      <td>new_age2</td>\n",
       "    </tr>\n",
       "    <tr>\n",
       "      <td>8</td>\n",
       "      <td>my_logisticRegCV</td>\n",
       "      <td>0.7622</td>\n",
       "      <td>0.7639</td>\n",
       "      <td>98.616%</td>\n",
       "      <td>98.622%</td>\n",
       "      <td>new_age2</td>\n",
       "    </tr>\n",
       "    <tr>\n",
       "      <td>21</td>\n",
       "      <td>my_logisticReg</td>\n",
       "      <td>0.7622</td>\n",
       "      <td>0.764</td>\n",
       "      <td>98.616%</td>\n",
       "      <td>98.623%</td>\n",
       "      <td>1</td>\n",
       "    </tr>\n",
       "    <tr>\n",
       "      <td>15</td>\n",
       "      <td>my_logisticRegCV</td>\n",
       "      <td>0.7622</td>\n",
       "      <td>0.7639</td>\n",
       "      <td>98.616%</td>\n",
       "      <td>98.622%</td>\n",
       "      <td>new_age3</td>\n",
       "    </tr>\n",
       "    <tr>\n",
       "      <td>27</td>\n",
       "      <td>mybest_logisticReg</td>\n",
       "      <td>0.7616</td>\n",
       "      <td>0.7641</td>\n",
       "      <td>98.611%</td>\n",
       "      <td>98.623%</td>\n",
       "      <td>1</td>\n",
       "    </tr>\n",
       "    <tr>\n",
       "      <td>6</td>\n",
       "      <td>mybest_logisticReg</td>\n",
       "      <td>0.7616</td>\n",
       "      <td>0.7623</td>\n",
       "      <td>98.611%</td>\n",
       "      <td>98.621%</td>\n",
       "      <td>new_age2</td>\n",
       "    </tr>\n",
       "    <tr>\n",
       "      <td>20</td>\n",
       "      <td>mybest_logisticReg</td>\n",
       "      <td>0.7616</td>\n",
       "      <td>0.7641</td>\n",
       "      <td>98.611%</td>\n",
       "      <td>98.623%</td>\n",
       "      <td>new_age3</td>\n",
       "    </tr>\n",
       "    <tr>\n",
       "      <td>13</td>\n",
       "      <td>mybest_logisticReg</td>\n",
       "      <td>0.7616</td>\n",
       "      <td>0.7641</td>\n",
       "      <td>98.611%</td>\n",
       "      <td>98.623%</td>\n",
       "      <td>new_age2</td>\n",
       "    </tr>\n",
       "    <tr>\n",
       "      <td>29</td>\n",
       "      <td>my_logisticRegCV</td>\n",
       "      <td>0.7606</td>\n",
       "      <td>0.7642</td>\n",
       "      <td>98.604%</td>\n",
       "      <td>98.625%</td>\n",
       "      <td>2</td>\n",
       "    </tr>\n",
       "    <tr>\n",
       "      <td>28</td>\n",
       "      <td>my_logisticReg</td>\n",
       "      <td>0.7606</td>\n",
       "      <td>0.7642</td>\n",
       "      <td>98.604%</td>\n",
       "      <td>98.625%</td>\n",
       "      <td>2</td>\n",
       "    </tr>\n",
       "    <tr>\n",
       "      <td>34</td>\n",
       "      <td>mybest_logisticReg</td>\n",
       "      <td>0.7591</td>\n",
       "      <td>0.7622</td>\n",
       "      <td>98.597%</td>\n",
       "      <td>98.618%</td>\n",
       "      <td>2</td>\n",
       "    </tr>\n",
       "    <tr>\n",
       "      <td>5</td>\n",
       "      <td>my_randomForest</td>\n",
       "      <td>0.7583</td>\n",
       "      <td>0.7723</td>\n",
       "      <td>98.578%</td>\n",
       "      <td>98.670%</td>\n",
       "      <td>new_age2</td>\n",
       "    </tr>\n",
       "    <tr>\n",
       "      <td>4</td>\n",
       "      <td>my_decisionTree</td>\n",
       "      <td>0.7569</td>\n",
       "      <td>0.7717</td>\n",
       "      <td>98.578%</td>\n",
       "      <td>98.674%</td>\n",
       "      <td>new_age2</td>\n",
       "    </tr>\n",
       "    <tr>\n",
       "      <td>33</td>\n",
       "      <td>my_randomForest</td>\n",
       "      <td>0.7562</td>\n",
       "      <td>0.7723</td>\n",
       "      <td>98.571%</td>\n",
       "      <td>98.673%</td>\n",
       "      <td>2</td>\n",
       "    </tr>\n",
       "    <tr>\n",
       "      <td>32</td>\n",
       "      <td>my_decisionTree</td>\n",
       "      <td>0.754</td>\n",
       "      <td>0.772</td>\n",
       "      <td>98.562%</td>\n",
       "      <td>98.678%</td>\n",
       "      <td>2</td>\n",
       "    </tr>\n",
       "    <tr>\n",
       "      <td>25</td>\n",
       "      <td>my_decisionTree</td>\n",
       "      <td>0.7538</td>\n",
       "      <td>0.7718</td>\n",
       "      <td>98.548%</td>\n",
       "      <td>98.664%</td>\n",
       "      <td>1</td>\n",
       "    </tr>\n",
       "    <tr>\n",
       "      <td>11</td>\n",
       "      <td>my_decisionTree</td>\n",
       "      <td>0.7538</td>\n",
       "      <td>0.7718</td>\n",
       "      <td>98.548%</td>\n",
       "      <td>98.664%</td>\n",
       "      <td>new_age2</td>\n",
       "    </tr>\n",
       "    <tr>\n",
       "      <td>18</td>\n",
       "      <td>my_decisionTree</td>\n",
       "      <td>0.7538</td>\n",
       "      <td>0.7718</td>\n",
       "      <td>98.548%</td>\n",
       "      <td>98.664%</td>\n",
       "      <td>new_age3</td>\n",
       "    </tr>\n",
       "    <tr>\n",
       "      <td>26</td>\n",
       "      <td>my_randomForest</td>\n",
       "      <td>0.7524</td>\n",
       "      <td>0.7713</td>\n",
       "      <td>98.534%</td>\n",
       "      <td>98.657%</td>\n",
       "      <td>1</td>\n",
       "    </tr>\n",
       "    <tr>\n",
       "      <td>12</td>\n",
       "      <td>my_randomForest</td>\n",
       "      <td>0.7524</td>\n",
       "      <td>0.7713</td>\n",
       "      <td>98.534%</td>\n",
       "      <td>98.657%</td>\n",
       "      <td>new_age2</td>\n",
       "    </tr>\n",
       "    <tr>\n",
       "      <td>19</td>\n",
       "      <td>my_randomForest</td>\n",
       "      <td>0.7524</td>\n",
       "      <td>0.7713</td>\n",
       "      <td>98.534%</td>\n",
       "      <td>98.657%</td>\n",
       "      <td>new_age3</td>\n",
       "    </tr>\n",
       "    <tr>\n",
       "      <td>30</td>\n",
       "      <td>my_ridgeClass</td>\n",
       "      <td>0.1059</td>\n",
       "      <td>0.1054</td>\n",
       "      <td>96.955%</td>\n",
       "      <td>96.954%</td>\n",
       "      <td>2</td>\n",
       "    </tr>\n",
       "    <tr>\n",
       "      <td>31</td>\n",
       "      <td>my_ridgeClassCV</td>\n",
       "      <td>0.1059</td>\n",
       "      <td>0.1054</td>\n",
       "      <td>96.955%</td>\n",
       "      <td>96.954%</td>\n",
       "      <td>2</td>\n",
       "    </tr>\n",
       "    <tr>\n",
       "      <td>24</td>\n",
       "      <td>my_ridgeClassCV</td>\n",
       "      <td>0.1033</td>\n",
       "      <td>0.1024</td>\n",
       "      <td>96.950%</td>\n",
       "      <td>96.948%</td>\n",
       "      <td>1</td>\n",
       "    </tr>\n",
       "    <tr>\n",
       "      <td>16</td>\n",
       "      <td>my_ridgeClass</td>\n",
       "      <td>0.1033</td>\n",
       "      <td>0.1024</td>\n",
       "      <td>96.950%</td>\n",
       "      <td>96.948%</td>\n",
       "      <td>new_age3</td>\n",
       "    </tr>\n",
       "    <tr>\n",
       "      <td>23</td>\n",
       "      <td>my_ridgeClass</td>\n",
       "      <td>0.1033</td>\n",
       "      <td>0.1024</td>\n",
       "      <td>96.950%</td>\n",
       "      <td>96.948%</td>\n",
       "      <td>1</td>\n",
       "    </tr>\n",
       "    <tr>\n",
       "      <td>9</td>\n",
       "      <td>my_ridgeClass</td>\n",
       "      <td>0.1033</td>\n",
       "      <td>0.1024</td>\n",
       "      <td>96.950%</td>\n",
       "      <td>96.948%</td>\n",
       "      <td>new_age2</td>\n",
       "    </tr>\n",
       "    <tr>\n",
       "      <td>3</td>\n",
       "      <td>my_ridgeClassCV</td>\n",
       "      <td>0.1033</td>\n",
       "      <td>0.1038</td>\n",
       "      <td>96.950%</td>\n",
       "      <td>96.951%</td>\n",
       "      <td>new_age2</td>\n",
       "    </tr>\n",
       "    <tr>\n",
       "      <td>2</td>\n",
       "      <td>my_ridgeClass</td>\n",
       "      <td>0.1033</td>\n",
       "      <td>0.1038</td>\n",
       "      <td>96.950%</td>\n",
       "      <td>96.951%</td>\n",
       "      <td>new_age2</td>\n",
       "    </tr>\n",
       "    <tr>\n",
       "      <td>10</td>\n",
       "      <td>my_ridgeClassCV</td>\n",
       "      <td>0.1033</td>\n",
       "      <td>0.1024</td>\n",
       "      <td>96.950%</td>\n",
       "      <td>96.948%</td>\n",
       "      <td>new_age2</td>\n",
       "    </tr>\n",
       "    <tr>\n",
       "      <td>17</td>\n",
       "      <td>my_ridgeClassCV</td>\n",
       "      <td>0.1033</td>\n",
       "      <td>0.1024</td>\n",
       "      <td>96.950%</td>\n",
       "      <td>96.948%</td>\n",
       "      <td>new_age3</td>\n",
       "    </tr>\n",
       "  </tbody>\n",
       "</table>\n",
       "</div>"
      ],
      "text/plain": [
       "                 model f1_score_test f1_score_train accuracy_score_test  \\\n",
       "0       my_logisticReg        0.7643         0.7652             98.620%   \n",
       "1     my_logisticRegCV        0.7643         0.7652             98.620%   \n",
       "14      my_logisticReg        0.7622          0.764             98.616%   \n",
       "22    my_logisticRegCV        0.7622         0.7639             98.616%   \n",
       "7       my_logisticReg        0.7622          0.764             98.616%   \n",
       "8     my_logisticRegCV        0.7622         0.7639             98.616%   \n",
       "21      my_logisticReg        0.7622          0.764             98.616%   \n",
       "15    my_logisticRegCV        0.7622         0.7639             98.616%   \n",
       "27  mybest_logisticReg        0.7616         0.7641             98.611%   \n",
       "6   mybest_logisticReg        0.7616         0.7623             98.611%   \n",
       "20  mybest_logisticReg        0.7616         0.7641             98.611%   \n",
       "13  mybest_logisticReg        0.7616         0.7641             98.611%   \n",
       "29    my_logisticRegCV        0.7606         0.7642             98.604%   \n",
       "28      my_logisticReg        0.7606         0.7642             98.604%   \n",
       "34  mybest_logisticReg        0.7591         0.7622             98.597%   \n",
       "5      my_randomForest        0.7583         0.7723             98.578%   \n",
       "4      my_decisionTree        0.7569         0.7717             98.578%   \n",
       "33     my_randomForest        0.7562         0.7723             98.571%   \n",
       "32     my_decisionTree         0.754          0.772             98.562%   \n",
       "25     my_decisionTree        0.7538         0.7718             98.548%   \n",
       "11     my_decisionTree        0.7538         0.7718             98.548%   \n",
       "18     my_decisionTree        0.7538         0.7718             98.548%   \n",
       "26     my_randomForest        0.7524         0.7713             98.534%   \n",
       "12     my_randomForest        0.7524         0.7713             98.534%   \n",
       "19     my_randomForest        0.7524         0.7713             98.534%   \n",
       "30       my_ridgeClass        0.1059         0.1054             96.955%   \n",
       "31     my_ridgeClassCV        0.1059         0.1054             96.955%   \n",
       "24     my_ridgeClassCV        0.1033         0.1024             96.950%   \n",
       "16       my_ridgeClass        0.1033         0.1024             96.950%   \n",
       "23       my_ridgeClass        0.1033         0.1024             96.950%   \n",
       "9        my_ridgeClass        0.1033         0.1024             96.950%   \n",
       "3      my_ridgeClassCV        0.1033         0.1038             96.950%   \n",
       "2        my_ridgeClass        0.1033         0.1038             96.950%   \n",
       "10     my_ridgeClassCV        0.1033         0.1024             96.950%   \n",
       "17     my_ridgeClassCV        0.1033         0.1024             96.950%   \n",
       "\n",
       "   accuracy_score_train    run_nb  \n",
       "0               98.630%  new_age2  \n",
       "1               98.630%  new_age2  \n",
       "14              98.623%  new_age3  \n",
       "22              98.622%         1  \n",
       "7               98.623%  new_age2  \n",
       "8               98.622%  new_age2  \n",
       "21              98.623%         1  \n",
       "15              98.622%  new_age3  \n",
       "27              98.623%         1  \n",
       "6               98.621%  new_age2  \n",
       "20              98.623%  new_age3  \n",
       "13              98.623%  new_age2  \n",
       "29              98.625%         2  \n",
       "28              98.625%         2  \n",
       "34              98.618%         2  \n",
       "5               98.670%  new_age2  \n",
       "4               98.674%  new_age2  \n",
       "33              98.673%         2  \n",
       "32              98.678%         2  \n",
       "25              98.664%         1  \n",
       "11              98.664%  new_age2  \n",
       "18              98.664%  new_age3  \n",
       "26              98.657%         1  \n",
       "12              98.657%  new_age2  \n",
       "19              98.657%  new_age3  \n",
       "30              96.954%         2  \n",
       "31              96.954%         2  \n",
       "24              96.948%         1  \n",
       "16              96.948%  new_age3  \n",
       "23              96.948%         1  \n",
       "9               96.948%  new_age2  \n",
       "3               96.951%  new_age2  \n",
       "2               96.951%  new_age2  \n",
       "10              96.948%  new_age2  \n",
       "17              96.948%  new_age3  "
      ]
     },
     "execution_count": 49,
     "metadata": {},
     "output_type": "execute_result"
    }
   ],
   "source": [
    "results.sort_values(by='f1_score_test',ascending=False)"
   ]
  },
  {
   "cell_type": "code",
   "execution_count": null,
   "metadata": {},
   "outputs": [],
   "source": [
    "## affichage des confusion matrix:\n",
    "for model_j in list_model:\n",
    "    Y_test_pred_i = eval(model_j).predict(X_test)\n",
    "    #sns.heatmap(confusion_matrix(Y_test, Y_test_pred_i),annot=True, ax=ax)\n",
    "    print(\"Confusion Matrix de \",model_j)\n",
    "    print(confusion_matrix(Y_test,Y_test_pred_i))\n",
    "    "
   ]
  },
  {
   "cell_type": "code",
   "execution_count": null,
   "metadata": {},
   "outputs": [],
   "source": [
    "best_classifier_rndmF.score(X_test,Y_test)"
   ]
  },
  {
   "cell_type": "code",
   "execution_count": null,
   "metadata": {},
   "outputs": [],
   "source": [
    "best_classifier_rndmF.best_params_"
   ]
  },
  {
   "cell_type": "code",
   "execution_count": null,
   "metadata": {},
   "outputs": [],
   "source": [
    "best_classifier_Log.best_params_"
   ]
  },
  {
   "cell_type": "code",
   "execution_count": null,
   "metadata": {},
   "outputs": [],
   "source": [
    "best_classifier.best_score_"
   ]
  },
  {
   "cell_type": "markdown",
   "metadata": {},
   "source": [
    "###  train on all data and make prediction without labels"
   ]
  },
  {
   "cell_type": "code",
   "execution_count": 19,
   "metadata": {},
   "outputs": [],
   "source": [
    "X = np.append(X_train,X_test,axis=0)\n",
    "Y = np.append(Y_train,Y_test)"
   ]
  },
  {
   "cell_type": "code",
   "execution_count": 20,
   "metadata": {},
   "outputs": [
    {
     "name": "stderr",
     "output_type": "stream",
     "text": [
      "C:\\Users\\djock\\Anaconda3\\lib\\site-packages\\sklearn\\model_selection\\_split.py:1978: FutureWarning: The default value of cv will change from 3 to 5 in version 0.22. Specify it explicitly to silence this warning.\n",
      "  warnings.warn(CV_WARNING, FutureWarning)\n",
      "C:\\Users\\djock\\Anaconda3\\lib\\site-packages\\sklearn\\linear_model\\logistic.py:432: FutureWarning: Default solver will be changed to 'lbfgs' in 0.22. Specify a solver to silence this warning.\n",
      "  FutureWarning)\n"
     ]
    },
    {
     "data": {
      "text/plain": [
       "LogisticRegression(C=0.23357214690901212, class_weight=None, dual=False,\n",
       "                   fit_intercept=True, intercept_scaling=1, l1_ratio=None,\n",
       "                   max_iter=100, multi_class='warn', n_jobs=None, penalty='l1',\n",
       "                   random_state=None, solver='warn', tol=0.0001, verbose=0,\n",
       "                   warm_start=False)"
      ]
     },
     "execution_count": 20,
     "metadata": {},
     "output_type": "execute_result"
    }
   ],
   "source": [
    "my_logisticReg.fit(X,Y)\n",
    "my_logisticRegCV.fit(X,Y)\n",
    "my_ridgeClass.fit(X,Y)\n",
    "my_ridgeClassCV.fit(X,Y)\n",
    "\n",
    "my_decisionTree.fit(X,Y)\n",
    "#my_randomForest.fit(X,Y)\n",
    "\n",
    "mybest_logisticReg.fit(X,Y)"
   ]
  },
  {
   "cell_type": "code",
   "execution_count": null,
   "metadata": {},
   "outputs": [],
   "source": [
    "best_classifier_rndmF.fit(X,Y)"
   ]
  },
  {
   "cell_type": "code",
   "execution_count": 21,
   "metadata": {},
   "outputs": [
    {
     "name": "stdout",
     "output_type": "stream",
     "text": [
      "Prediction set (without labels) : (31620, 5)\n",
      "  country  new_age  new_user  source  total_pages_visited\n",
      "0      UK       30         0     Seo                   16\n",
      "1      UK       25         1  Direct                    5\n",
      "2   China       35         1     Seo                    1\n",
      "3      US       35         1     Ads                    6\n",
      "4   China       30         0     Seo                    3\n",
      "Convert pandas DataFrames to numpy arrays...\n",
      "...Done\n",
      "[[ 0.          1.          0.          0.          1.         -0.45676765\n",
      "  -1.47801238  3.32892817]\n",
      " [ 0.          1.          0.          1.          0.         -0.87964634\n",
      "   0.67658432  0.03738213]\n",
      " [ 0.          0.          0.          0.          1.         -0.03388896\n",
      "   0.67658432 -1.1595437 ]\n",
      " [ 0.          0.          1.          0.          0.         -0.03388896\n",
      "   0.67658432  0.33661359]\n",
      " [ 0.          0.          0.          0.          1.         -0.45676765\n",
      "  -1.47801238 -0.56108079]]\n"
     ]
    }
   ],
   "source": [
    "# Read data without labels\n",
    "data_without_labels = pd.read_csv('conversion_data_test.csv')\n",
    "print('Prediction set (without labels) :', data_without_labels.shape)\n",
    "data_without_labels['new_age'] = 'NaN'\n",
    "data_without_labels['new_age'] = data_without_labels.age.apply(lambda x: 20 if x < 20\n",
    "                                    else 25 if x<25\n",
    "                                    else 30 if x<30\n",
    "                                    else 35 if x<35\n",
    "                                    else 40 if x<40\n",
    "                                    else 50 if x<50\n",
    "                                    else 65)\n",
    "\n",
    "X_without_labels = data_without_labels.loc[:,features_list]\n",
    "\n",
    "print(X_without_labels.head(5))\n",
    "\n",
    "\n",
    "\n",
    "# Warning : check consistency of features_list (must be the same than the features \n",
    "# used by your best classifier)\n",
    "\n",
    "# Convert pandas DataFrames to numpy arrays before using scikit-learn\n",
    "print(\"Convert pandas DataFrames to numpy arrays...\")\n",
    "X_without_labels = featureencoder.transform(X_without_labels)\n",
    "print(\"...Done\")\n",
    "\n",
    "print(X_without_labels[0:5,:])"
   ]
  },
  {
   "cell_type": "code",
   "execution_count": 22,
   "metadata": {},
   "outputs": [],
   "source": [
    "## extraction des résultats\n",
    "\n",
    "data = {\n",
    "    'converted': my_logisticReg.predict(X_without_labels)\n",
    "}\n",
    "\n",
    "Y_predictions = pd.DataFrame(columns=['converted'],data=data)\n",
    "Y_predictions.to_csv('conversion_data_test_predictions_Xavier-mylogisticReg-3.csv', index=False)\n"
   ]
  },
  {
   "cell_type": "code",
   "execution_count": null,
   "metadata": {},
   "outputs": [],
   "source": []
  }
 ],
 "metadata": {
  "kernelspec": {
   "display_name": "Python 3",
   "language": "python",
   "name": "python3"
  },
  "language_info": {
   "codemirror_mode": {
    "name": "ipython",
    "version": 3
   },
   "file_extension": ".py",
   "mimetype": "text/x-python",
   "name": "python",
   "nbconvert_exporter": "python",
   "pygments_lexer": "ipython3",
   "version": "3.7.4"
  }
 },
 "nbformat": 4,
 "nbformat_minor": 2
}
